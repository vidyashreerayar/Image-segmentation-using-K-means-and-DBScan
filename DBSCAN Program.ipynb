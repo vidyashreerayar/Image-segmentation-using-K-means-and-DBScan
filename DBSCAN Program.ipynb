{
 "cells": [
  {
   "cell_type": "code",
   "execution_count": 1,
   "id": "e5109b88",
   "metadata": {},
   "outputs": [],
   "source": [
    "from math import sqrt, pow \n",
    "from PIL import Image\n",
    "import matplotlib.pyplot as plt"
   ]
  },
  {
   "cell_type": "code",
   "execution_count": 2,
   "id": "4a1cdcec",
   "metadata": {},
   "outputs": [],
   "source": [
    "#DBScan Algorithm\n",
    "\n",
    "\n",
    "class DBSCAN:  \n",
    "\n",
    "    visit_cnt = 0\n",
    "    def __init__(self):  \n",
    "        self.DB = [] #Database to represent RGB values\n",
    "        self.epsilon = 0.3 #neighborhood distance for search  \n",
    "        self.MinPts = 10  #minimum number of points required to form a cluster  \n",
    "        self.cluster_inx = -1  \n",
    "        self.cluster = []\n",
    "        self.clusterCentroids = [] \n",
    "        self.noise = [] \n",
    "       \n",
    "    def DBSCAN(self):  \n",
    "        for i in range(len(self.DB)):  \n",
    "            p_tmp = self.DB[i]  \n",
    "            if (not p_tmp.visited):  \n",
    "                p_tmp.visited = True \n",
    "                self.visit_cnt += 1 \n",
    "                NeighborPts = self.epsilon_neighbourhood(p_tmp)  \n",
    "                if(len(NeighborPts) < self.MinPts):  \n",
    "                    p_tmp.isnoise = True  \n",
    "                    self.noise.append(p_tmp)\n",
    "                    \n",
    "                else:  \n",
    "                    self.cluster.append([])  \n",
    "                    self.cluster_inx = self.cluster_inx + 1  \n",
    "                    self.check_neighbourhood(p_tmp, NeighborPts) \n",
    "    \n",
    "    def check_neighbourhood(self, P, neighbor_points):  \n",
    "        self.cluster[self.cluster_inx].append(P)  \n",
    "        iterator = iter(neighbor_points)  \n",
    "        while True:  \n",
    "            try:   \n",
    "                npoint_tmp = next(iterator)  \n",
    "            except StopIteration:  \n",
    "                break \n",
    "            if (not npoint_tmp.visited):  \n",
    "                npoint_tmp.visited = True \n",
    "                self.visit_cnt += 1 \n",
    "         \n",
    "                NeighborPts1 = self.epsilon_neighbourhood(npoint_tmp)\n",
    "                if (len(NeighborPts1) >= self.MinPts):  \n",
    "                    for j in range(len(NeighborPts1)):  \n",
    "                        neighbor_points.append(NeighborPts1[j])  \n",
    "            if (not self.check_membership(npoint_tmp)):  \n",
    "                self.cluster[self.cluster_inx].append(npoint_tmp)  \n",
    "   \n",
    "    def check_membership(self, P):  \n",
    "        for i in range(len(self.cluster)):  \n",
    "            for j in range(len(self.cluster[i])):  \n",
    "                if (P.r == self.cluster[i][j].r and P.g == self.cluster[i][j].g and P.b == self.cluster[i][j].b):  \n",
    "                    return True  \n",
    "        return False  \n",
    "       \n",
    "    def epsilon_neighbourhood(self, P):  \n",
    "        pointInRegion = []  \n",
    "        for i in range(len(self.DB)):  \n",
    "            p_tmp = self.DB[i]\n",
    "            if (self.dist(P, p_tmp) <= self.epsilon and P.r != p_tmp.r and P.g != p_tmp.g and P.b != p_tmp.b):  \n",
    "                pointInRegion.append(p_tmp)  \n",
    "        return pointInRegion #,points  \n",
    "   \n",
    "    def dist(self, p1, p2):  \n",
    "        dr = (p1.r - p2.r)  \n",
    "        dg = (p1.g - p2.g) \n",
    "        db = (p1.b - p2.b)\n",
    "        a = sqrt(pow(dr,2) + pow(dg,2) + pow(db,2))\n",
    "        return a/(255*sqrt(3))  \n",
    "   \n",
    "    def mode(self,x):\n",
    "        tmp = []\n",
    "        for i in x:\n",
    "            tmp.append((i.r,i.g,i.b))\n",
    "        return max(tmp,key = lambda x: tmp.count(x))\n",
    "\n",
    "class DataSet:  \n",
    "\n",
    "    def __init__(self, rgb, x, y, visited = False, isnoise = False):  \n",
    "        self.r = rgb[0]\n",
    "        self.g = rgb[1]\n",
    "        self.b = rgb[2] \n",
    "        self.x = x  \n",
    "        self.y = y \n",
    "        self.visited = False  \n",
    "        self.isnoise = False  \n",
    "   \n",
    "    def show(self):  \n",
    "        return self.r, self.g, self.b "
   ]
  },
  {
   "cell_type": "code",
   "execution_count": 3,
   "id": "d69f00b3",
   "metadata": {},
   "outputs": [
    {
     "data": {
      "image/png": "[encoded data removed]",
      "text/plain": [
       "<Figure size 600x600 with 1 Axes>"
      ]
     },
     "metadata": {},
     "output_type": "display_data"
    }
   ],
   "source": [
    "if __name__=='__main__': \n",
    "\n",
    "   # read an image \n",
    "    i = Image.open(\"smiley.gif\")\n",
    "    i = i.convert(\"RGB\")  \n",
    "    width, height = i.size\n",
    "    \n",
    "    plt.figure(figsize=(6, 6))\n",
    "    plt.imshow(i)\n",
    "\n",
    "    cpixels = []\n",
    "    all_pixels = [] # list of tuples\n",
    "    for x in range(width):\n",
    "        for y in range(height):\n",
    "            cpixel = i.getpixel((x,y))\n",
    "            cpixels.append(cpixel)\n",
    "            all_pixels.append(DataSet(cpixel,x,y)) "
   ]
  },
  {
   "cell_type": "code",
   "execution_count": 4,
   "id": "13351492",
   "metadata": {},
   "outputs": [],
   "source": [
    "#Create object of DBSCAN class\n",
    "dbScan = DBSCAN()  \n",
    "   #Initialise dataSet  \n",
    "dbScan.DB = all_pixels;  \n",
    "   #build clusters \n",
    "dbScan.DBSCAN()  "
   ]
  },
  {
   "cell_type": "code",
   "execution_count": 5,
   "id": "785b48f4",
   "metadata": {},
   "outputs": [
    {
     "name": "stdout",
     "output_type": "stream",
     "text": [
      "Cluster:  0\n",
      "(51, 43, 102)\n",
      "(0, 85, 51)\n",
      "(153, 85, 51)\n",
      "(204, 128, 0)\n",
      "(153, 213, 51)\n",
      "Cluster:  1\n",
      "(0, 43, 102)\n",
      "(51, 85, 51)\n",
      "(153, 128, 0)\n",
      "(204, 213, 51)\n",
      "(204, 85, 51)\n",
      "Cluster:  2\n",
      "(51, 43, 51)\n",
      "(0, 85, 102)\n",
      "Cluster:  3\n",
      "(0, 43, 51)\n",
      "(51, 85, 102)\n",
      "(153, 128, 51)\n",
      "(204, 85, 0)\n"
     ]
    }
   ],
   "source": [
    "for i in range(len(dbScan.cluster)):  \n",
    "    print('Cluster: ', i ) \n",
    "    for j in range(len(dbScan.cluster[i])):  \n",
    "        print(dbScan.cluster[i][j].show())\n",
    "\n",
    "   # Writing new image\n",
    "\n",
    "    newImg = Image.new('RGB', (width,height))\n",
    "    pixels1 = newImg.load()\n",
    "    cnt = 0\n",
    "    cluster_tmp = []\n",
    "    for i in range (width):\n",
    "        for j in range (height):\n",
    "            for k in range(len(dbScan.cluster)):\n",
    "                cluster_tmp.append([])\n",
    "                for l in dbScan.cluster[k]:\n",
    "                    if(cpixels[cnt]==(l.r,l.g,l.b)):\n",
    "                        cluster_tmp[k].append(DataSet(cpixels[cnt],i,j))\n",
    "            cnt += 1\n",
    "\n",
    "    for i in range(len(dbScan.cluster)):\n",
    "            dbScan.clusterCentroids.append(dbScan.mode(cluster_tmp[i]))\n",
    "\n",
    "    cnt = 0\n",
    "    for i in range (width):\n",
    "        for j in range (height):\n",
    "            for k in range(len(dbScan.cluster)):\n",
    "                for l in dbScan.cluster[k]:\n",
    "                    if(cpixels[cnt]==(l.r,l.g,l.b)):\n",
    "                        pixels1[i,j] = dbScan.clusterCentroids[k];\n",
    "            cnt += 1\n",
    "\n",
    "    "
   ]
  },
  {
   "cell_type": "code",
   "execution_count": 6,
   "id": "25f36c96",
   "metadata": {},
   "outputs": [
    {
     "name": "stdout",
     "output_type": "stream",
     "text": [
      "4\n"
     ]
    }
   ],
   "source": [
    "print (len(dbScan.cluster))"
   ]
  },
  {
   "cell_type": "code",
   "execution_count": 7,
   "id": "197cfe05",
   "metadata": {},
   "outputs": [
    {
     "name": "stdout",
     "output_type": "stream",
     "text": [
      "Number of clusters: 16\n",
      "Noise: 3460\n"
     ]
    }
   ],
   "source": [
    "newImg.save(\"newsmiley.jpeg\")\n",
    "print(\"Number of clusters:\",len(dbScan.clusterCentroids))\n",
    "print(\"Noise:\",len(dbScan.noise))\n",
    "for i in cluster_tmp:\n",
    "    if(cluster_tmp.index(i) == len(dbScan.clusterCentroids)):\n",
    "        break\n",
    "        xy = set([(j.x,j.y) for j in i])\n",
    "        print(\"Cluster\",cluster_tmp.index(i)+1,\"\\nLength of cluster:\",len(i),\"\\nx-y coordinates:\",xy)"
   ]
  },
  {
   "cell_type": "code",
   "execution_count": null,
   "id": "c0b268d7",
   "metadata": {},
   "outputs": [],
   "source": []
  }
 ],
 "metadata": {
  "kernelspec": {
   "display_name": "Python 3 (ipykernel)",
   "language": "python",
   "name": "python3"
  },
  "language_info": {
   "codemirror_mode": {
    "name": "ipython",
    "version": 3
   },
   "file_extension": ".py",
   "mimetype": "text/x-python",
   "name": "python",
   "nbconvert_exporter": "python",
   "pygments_lexer": "ipython3",
   "version": "3.11.0"
  }
 },
 "nbformat": 4,
 "nbformat_minor": 5
}
